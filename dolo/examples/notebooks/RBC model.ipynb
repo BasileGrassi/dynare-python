{
 "metadata": {
  "name": "RBC model"
 },
 "nbformat": 3,
 "worksheets": [
  {
   "cells": [
    {
     "cell_type": "code",
     "collapsed": true,
     "input": [
      "from dolo import *"
     ],
     "language": "python",
     "outputs": [],
     "prompt_number": 1
    },
    {
     "cell_type": "code",
     "collapsed": true,
     "input": [
      "model = yaml_import('../global_models/rbc.yaml')"
     ],
     "language": "python",
     "outputs": [],
     "prompt_number": 2
    },
    {
     "cell_type": "code",
     "collapsed": false,
     "input": [
      "model"
     ],
     "language": "python",
     "outputs": [
      {
       "html": [
        "<table>\t<tr>",
        "\t\t<td> </td>",
        "\t\t<td>Equations </td>",
        "\t\t<td>Residuals </td>",
        "</tr>",
        "\t<tr>",
        "\t\t<td>transition </td>",
        "\t\t<td> </td>",
        "</tr>",
        "\t<tr>",
        "\t\t<td> </td>",
        "\t\t<td>$z_{t} = \\rho z_{t-1} + zbar \\left(- \\rho + 1\\right) + e_{z,t}$ </td>",
        "\t\t<td>0.0 </td>",
        "</tr>",
        "\t<tr>",
        "\t\t<td> </td>",
        "\t\t<td>$k_{t} = i_{t-1} + k_{t-1} \\left(- \\delta + 1\\right)$ </td>",
        "\t\t<td>-7.49400541622e-16 </td>",
        "</tr>",
        "\t<tr>",
        "\t\t<td>arbitrage </td>",
        "\t\t<td> </td>",
        "</tr>",
        "\t<tr>",
        "\t\t<td> </td>",
        "\t\t<td>$1 = \\beta \\left(\\frac{c_{t}}{c_{t+1}}\\right)^{\\sigma} \\left(- \\delta + rk_{t+1} + 1\\right)$ </td>",
        "\t\t<td>1.11022302463e-16 </td>",
        "</tr>",
        "\t<tr>",
        "\t\t<td> </td>",
        "\t\t<td>$- \\chi c_{t}^{\\sigma} n_{t}^{\\eta} + w_{t} = 0$ </td>",
        "\t\t<td>0.0 </td>",
        "</tr>",
        "\t<tr>",
        "\t\t<td>auxiliary </td>",
        "\t\t<td> </td>",
        "</tr>",
        "\t<tr>",
        "\t\t<td> </td>",
        "\t\t<td>$c_{t} = - i_{t} + k_{t}^{\\alpha} n_{t}^{- \\alpha + 1} z_{t}$ </td>",
        "\t\t<td>2.77555756156e-17 </td>",
        "</tr>",
        "\t<tr>",
        "\t\t<td> </td>",
        "\t\t<td>$rk_{t} = \\alpha z_{t} \\left(\\frac{n_{t}}{k_{t}}\\right)^{- \\alpha + 1}$ </td>",
        "\t\t<td>-6.93889390391e-18 </td>",
        "</tr>",
        "\t<tr>",
        "\t\t<td> </td>",
        "\t\t<td>$w_{t} = z_{t} \\left(\\frac{k_{t}}{n_{t}}\\right)^{\\alpha} \\left(- \\alpha + 1\\right)$ </td>",
        "\t\t<td>0.0 </td>",
        "</tr>",
        "</table>"
       ],
       "output_type": "pyout",
       "prompt_number": 3,
       "text": [
        "{'covariances': [0.0015],",
        " 'equations': [z == rho*z(-1) + zbar*(-rho + 1) + e_z,",
        "  k == i(-1) + k(-1)*(-delta + 1),",
        "  1 == beta*(c/c(1))**sigma*(-delta + rk(1) + 1),",
        "  -chi*c**sigma*n**eta + w == 0,",
        "  c == -i + k**alpha*n**(-alpha + 1)*z,",
        "  rk == alpha*z*(n/k)**(-alpha + 1),",
        "  w == z*(k/n)**alpha*(-alpha + 1)],",
        " 'equations_groups': OrderedDict([('transition', [z == rho*z(-1) + zbar*(-rho + 1) + e_z, k == i(-1) + k(-1)*(-delta + 1)]), ('arbitrage', [1 == beta*(c/c(1))**sigma*(-delta + rk(1) + 1), -chi*c**sigma*n**eta + w == 0]), ('auxiliary', [c == -i + k**alpha*n**(-alpha + 1)*z, rk == alpha*z*(n/k)**(-alpha + 1), w == z*(k/n)**alpha*(-alpha + 1)])]),",
        " 'init_values': {c: -i + k**alpha*n**(-alpha + 1)*z,",
        "  i: delta*k,",
        "  k: n*(rk/alpha)**(-1/(-alpha + 1)),",
        "  n: 0.33,",
        "  rk: delta - 1 + 1/beta,",
        "  w: z*(k/n)**alpha*(-alpha + 1),",
        "  z: zbar},",
        " 'name': 'rbc',",
        " 'original_data': {'calibration': {'covariances': '[ [ 0.0015 ] ]\\n',",
        "   'parameters': {'alpha': 0.33,",
        "    'beta': 0.99,",
        "    'chi': 'w/c**sigma/n**eta',",
        "    'delta': 0.025,",
        "    'eta': 1,",
        "    'phi': 1,",
        "    'rho': 0.8,",
        "    'sigma': 1,",
        "    'zbar': 1},",
        "   'steady_state': {'c': 'z*k**alpha*n**(1-alpha) - i',",
        "    'i': 'delta*k',",
        "    'k': 'n/(rk/alpha)**(1/(1-alpha))',",
        "    'n': 0.33,",
        "    'rk': '1/beta-1+delta',",
        "    'w': '(1-alpha)*z*(k/n)**(alpha)',",
        "    'z': 'zbar'}},",
        "  'declarations': {'auxiliary': ['c', 'rk', 'w'],",
        "   'controls': ['i', 'n'],",
        "   'parameters': ['beta',",
        "    'sigma',",
        "    'eta',",
        "    'chi',",
        "    'delta',",
        "    'alpha',",
        "    'rho',",
        "    'zbar'],",
        "   'shocks': ['e_z'],",
        "   'states': ['z', 'k']},",
        "  'equations': {'arbitrage': ['1 = beta*(c/c(1))**(sigma)*(1-delta+rk(1))   | 0 <= i <= inf',",
        "    'w - chi*n**eta*c**sigma                  | 0 <= n <= inf'],",
        "   'auxiliary': ['c = z*k**alpha*n**(1-alpha) - i',",
        "    'rk = alpha*z*(n/k)**(1-alpha)',",
        "    'w = (1-alpha)*z*(k/n)**(alpha)'],",
        "   'transition': ['z = (1-rho)*zbar + rho*z(-1) + e_z',",
        "    'k = (1-delta)*k(-1) + i(-1)']}},",
        " 'parameters_ordering': [beta, sigma, eta, chi, delta, alpha, rho, zbar],",
        " 'parameters_values': {alpha: 0.33,",
        "  beta: 0.99,",
        "  chi: c**(-sigma)*n**(-eta)*w,",
        "  delta: 0.025,",
        "  eta: 1,",
        "  phi: 1,",
        "  rho: 0.8,",
        "  sigma: 1,",
        "  zbar: 1},",
        " 'shocks_ordering': [e_z],",
        " 'variables_groups': OrderedDict([('states', [z, k]), ('controls', [i, n]), ('auxiliary', [c, rk, w])]),",
        " 'variables_ordering': [z, k, i, n, c, rk, w]}"
       ]
      }
     ],
     "prompt_number": 3
    },
    {
     "cell_type": "code",
     "collapsed": true,
     "input": [
      "dr = approximate_controls(model, order=1)",
      "#dr = approximate_controls(model, order=2)"
     ],
     "language": "python",
     "outputs": [],
     "prompt_number": 40
    },
    {
     "cell_type": "code",
     "collapsed": false,
     "input": [
      "from dolo.numeric.global_solve import global_solve",
      "dr_global = global_solve(model, maxit=20, n_s=4)"
     ],
     "language": "python",
     "outputs": [
      {
       "output_type": "stream",
       "stream": "stdout",
       "text": [
        "-----------------------------------------------------",
        "|Iteration\t|\tStep\t\t\t|\tTime (s)\t|",
        "-----------------------------------------------------",
        "\t\t1\t|\t4.976532e-02\t|\t0.124223\t|\t4"
       ]
      },
      {
       "output_type": "stream",
       "stream": "stdout",
       "text": [
        "",
        "\t\t2\t|\t6.504790e-02\t|\t0.121824\t|\t4"
       ]
      },
      {
       "output_type": "stream",
       "stream": "stdout",
       "text": [
        "",
        "\t\t3\t|\t3.198843e-02\t|\t0.126593\t|\t4"
       ]
      },
      {
       "output_type": "stream",
       "stream": "stdout",
       "text": [
        "",
        "\t\t4\t|\t1.548028e-02\t|\t0.091409\t|\t3"
       ]
      },
      {
       "output_type": "stream",
       "stream": "stdout",
       "text": [
        "",
        "\t\t5\t|\t1.009189e-02\t|\t0.094271\t|\t3"
       ]
      },
      {
       "output_type": "stream",
       "stream": "stdout",
       "text": [
        "",
        "\t\t6\t|\t8.326782e-03\t|\t0.094958\t|\t3"
       ]
      },
      {
       "output_type": "stream",
       "stream": "stdout",
       "text": [
        "",
        "\t\t7\t|\t6.421066e-03\t|\t0.099820\t|\t3"
       ]
      },
      {
       "output_type": "stream",
       "stream": "stdout",
       "text": [
        "",
        "\t\t8\t|\t4.794954e-03\t|\t0.091722\t|\t3"
       ]
      },
      {
       "output_type": "stream",
       "stream": "stdout",
       "text": [
        "",
        "\t\t9\t|\t3.529648e-03\t|\t0.094658\t|\t3"
       ]
      },
      {
       "output_type": "stream",
       "stream": "stdout",
       "text": [
        "",
        "\t\t10\t|\t2.587704e-03\t|\t0.095244\t|\t3"
       ]
      },
      {
       "output_type": "stream",
       "stream": "stdout",
       "text": [
        "",
        "\t\t11\t|\t1.901973e-03\t|\t0.093510\t|\t3"
       ]
      },
      {
       "output_type": "stream",
       "stream": "stdout",
       "text": [
        "",
        "\t\t12\t|\t1.407995e-03\t|\t0.093451\t|\t3"
       ]
      },
      {
       "output_type": "stream",
       "stream": "stdout",
       "text": [
        "",
        "\t\t13\t|\t1.053376e-03\t|\t0.093505\t|\t3"
       ]
      },
      {
       "output_type": "stream",
       "stream": "stdout",
       "text": [
        "",
        "\t\t14\t|\t7.984920e-04\t|\t0.097430\t|\t3"
       ]
      },
      {
       "output_type": "stream",
       "stream": "stdout",
       "text": [
        "",
        "\t\t15\t|\t6.144629e-04\t|\t0.091705\t|\t3"
       ]
      },
      {
       "output_type": "stream",
       "stream": "stdout",
       "text": [
        "",
        "\t\t16\t|\t4.806487e-04\t|\t0.092275\t|\t3"
       ]
      },
      {
       "output_type": "stream",
       "stream": "stdout",
       "text": [
        "",
        "\t\t17\t|\t3.824511e-04\t|\t0.092984\t|\t3"
       ]
      },
      {
       "output_type": "stream",
       "stream": "stdout",
       "text": [
        "",
        "\t\t18\t|\t3.095952e-04\t|\t0.097937\t|\t3"
       ]
      },
      {
       "output_type": "stream",
       "stream": "stdout",
       "text": [
        "",
        "\t\t19\t|\t2.548589e-04\t|\t0.091022\t|\t3"
       ]
      },
      {
       "output_type": "stream",
       "stream": "stdout",
       "text": [
        "",
        "\t\t20\t|\t2.131607e-04\t|\t0.092589\t|\t3"
       ]
      },
      {
       "output_type": "stream",
       "stream": "stdout",
       "text": [
        "",
        "Elapsed: 1.98293304443",
        "   k               Psi(x)                || DPsi(x) ||    stepsize"
       ]
      },
      {
       "output_type": "stream",
       "stream": "stdout",
       "text": [
        "",
        "====================================================================",
        "********************* Output at starting point *********************",
        "0\t7.57288852881e-08\t0.00254421993574",
        "",
        "************************** Preprocessor ****************************",
        "1\t8.69412714121e-11\t0.00046983775213\t1"
       ]
      },
      {
       "output_type": "stream",
       "stream": "stdout",
       "text": [
        "",
        "Approximate solution found.",
        "************************** Main program ****************************"
       ]
      }
     ],
     "prompt_number": 41
    },
    {
     "cell_type": "code",
     "collapsed": false,
     "input": [
      "k_bounds = dr_global.bounds[:,1]",
      "k_vec = linspace(k_bounds[0],k_bounds[1])",
      "s_vec = numpy.row_stack([k_vec*0+1, k_vec])"
     ],
     "language": "python",
     "outputs": [],
     "prompt_number": 42
    },
    {
     "cell_type": "code",
     "collapsed": false,
     "input": [
      "x_vec_pert = dr(s_vec)",
      "x_vec_glob = dr_global(s_vec)"
     ],
     "language": "python",
     "outputs": [],
     "prompt_number": 43
    },
    {
     "cell_type": "code",
     "collapsed": false,
     "input": [
      "c_vec_pert = x_vec_pert[0,:]",
      "c_vec_global = x_vec_glob[0,:]"
     ],
     "language": "python",
     "outputs": [],
     "prompt_number": 44
    },
    {
     "cell_type": "code",
     "collapsed": false,
     "input": [
      "plot(k_vec, c_vec_pert,label='perturbation')",
      "plot(k_vec, c_vec_global, label='smolyak')",
      "xlabel('$k_t$')",
      "ylabel('$i_t$')",
      "legend()",
      "title('Investment')"
     ],
     "language": "python",
     "outputs": [
      {
       "output_type": "pyout",
       "prompt_number": 45,
       "text": [
        "<matplotlib.text.Text at 0x5c8fd10>"
       ]
      },
      {
       "output_type": "display_data",
       "png": "[encoded data removed]"
      }
     ],
     "prompt_number": 45
    }
   ]
  }
 ]
}